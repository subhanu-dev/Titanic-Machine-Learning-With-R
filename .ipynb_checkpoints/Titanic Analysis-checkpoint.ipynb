{
 "cells": [
  {
   "cell_type": "code",
   "execution_count": 32,
   "id": "7292989e-536f-4004-82aa-af000209db22",
   "metadata": {},
   "outputs": [],
   "source": [
    "#importing libraries required\n",
    "library(dplyr)\n",
    "library(ggplot2)\n",
    "library(tidyverse)"
   ]
  },
  {
   "attachments": {},
   "cell_type": "markdown",
   "id": "8cbc2f58-afdb-4544-96d1-cc88413ba1cb",
   "metadata": {},
   "source": [
    "The RMS Titanic carried approximately 2,224 people on board, including passengers and crew, during its maiden voyage in April 1912. This number includes about 1,316 passengers and 908 crew members. The dataset here refers to the passengers records. the voyage was from Southampton, England, to New York City, USA.\n",
    "\n",
    "<img src=\"TitanicRoute.svg.png\" width=\"600\" height=\"400\">\n"
   ]
  },
  {
   "cell_type": "markdown",
   "id": "d887b3ac-efe7-488b-8fbe-9ecadb5586cf",
   "metadata": {},
   "source": [
    "## Loading the dataset"
   ]
  },
  {
   "cell_type": "code",
   "execution_count": 2,
   "id": "d595a855-31a5-4961-848c-cbee05b16c64",
   "metadata": {
    "scrolled": true
   },
   "outputs": [
    {
     "data": {
      "text/html": [
       "<table class=\"dataframe\">\n",
       "<caption>A data.frame: 6 × 12</caption>\n",
       "<thead>\n",
       "\t<tr><th></th><th scope=col>PassengerId</th><th scope=col>Survived</th><th scope=col>Pclass</th><th scope=col>Name</th><th scope=col>Sex</th><th scope=col>Age</th><th scope=col>SibSp</th><th scope=col>Parch</th><th scope=col>Ticket</th><th scope=col>Fare</th><th scope=col>Cabin</th><th scope=col>Embarked</th></tr>\n",
       "\t<tr><th></th><th scope=col>&lt;int&gt;</th><th scope=col>&lt;int&gt;</th><th scope=col>&lt;int&gt;</th><th scope=col>&lt;chr&gt;</th><th scope=col>&lt;chr&gt;</th><th scope=col>&lt;dbl&gt;</th><th scope=col>&lt;int&gt;</th><th scope=col>&lt;int&gt;</th><th scope=col>&lt;chr&gt;</th><th scope=col>&lt;dbl&gt;</th><th scope=col>&lt;chr&gt;</th><th scope=col>&lt;chr&gt;</th></tr>\n",
       "</thead>\n",
       "<tbody>\n",
       "\t<tr><th scope=row>1</th><td>1</td><td>0</td><td>3</td><td>Braund, Mr. Owen Harris                            </td><td>male  </td><td>22</td><td>1</td><td>0</td><td>A/5 21171       </td><td> 7.2500</td><td>    </td><td>S</td></tr>\n",
       "\t<tr><th scope=row>2</th><td>2</td><td>1</td><td>1</td><td>Cumings, Mrs. John Bradley (Florence Briggs Thayer)</td><td>female</td><td>38</td><td>1</td><td>0</td><td>PC 17599        </td><td>71.2833</td><td>C85 </td><td>C</td></tr>\n",
       "\t<tr><th scope=row>3</th><td>3</td><td>1</td><td>3</td><td>Heikkinen, Miss. Laina                             </td><td>female</td><td>26</td><td>0</td><td>0</td><td>STON/O2. 3101282</td><td> 7.9250</td><td>    </td><td>S</td></tr>\n",
       "\t<tr><th scope=row>4</th><td>4</td><td>1</td><td>1</td><td>Futrelle, Mrs. Jacques Heath (Lily May Peel)       </td><td>female</td><td>35</td><td>1</td><td>0</td><td>113803          </td><td>53.1000</td><td>C123</td><td>S</td></tr>\n",
       "\t<tr><th scope=row>5</th><td>5</td><td>0</td><td>3</td><td>Allen, Mr. William Henry                           </td><td>male  </td><td>35</td><td>0</td><td>0</td><td>373450          </td><td> 8.0500</td><td>    </td><td>S</td></tr>\n",
       "\t<tr><th scope=row>6</th><td>6</td><td>0</td><td>3</td><td>Moran, Mr. James                                   </td><td>male  </td><td>NA</td><td>0</td><td>0</td><td>330877          </td><td> 8.4583</td><td>    </td><td>Q</td></tr>\n",
       "</tbody>\n",
       "</table>\n"
      ],
      "text/latex": [
       "A data.frame: 6 × 12\n",
       "\\begin{tabular}{r|llllllllllll}\n",
       "  & PassengerId & Survived & Pclass & Name & Sex & Age & SibSp & Parch & Ticket & Fare & Cabin & Embarked\\\\\n",
       "  & <int> & <int> & <int> & <chr> & <chr> & <dbl> & <int> & <int> & <chr> & <dbl> & <chr> & <chr>\\\\\n",
       "\\hline\n",
       "\t1 & 1 & 0 & 3 & Braund, Mr. Owen Harris                             & male   & 22 & 1 & 0 & A/5 21171        &  7.2500 &      & S\\\\\n",
       "\t2 & 2 & 1 & 1 & Cumings, Mrs. John Bradley (Florence Briggs Thayer) & female & 38 & 1 & 0 & PC 17599         & 71.2833 & C85  & C\\\\\n",
       "\t3 & 3 & 1 & 3 & Heikkinen, Miss. Laina                              & female & 26 & 0 & 0 & STON/O2. 3101282 &  7.9250 &      & S\\\\\n",
       "\t4 & 4 & 1 & 1 & Futrelle, Mrs. Jacques Heath (Lily May Peel)        & female & 35 & 1 & 0 & 113803           & 53.1000 & C123 & S\\\\\n",
       "\t5 & 5 & 0 & 3 & Allen, Mr. William Henry                            & male   & 35 & 0 & 0 & 373450           &  8.0500 &      & S\\\\\n",
       "\t6 & 6 & 0 & 3 & Moran, Mr. James                                    & male   & NA & 0 & 0 & 330877           &  8.4583 &      & Q\\\\\n",
       "\\end{tabular}\n"
      ],
      "text/markdown": [
       "\n",
       "A data.frame: 6 × 12\n",
       "\n",
       "| <!--/--> | PassengerId &lt;int&gt; | Survived &lt;int&gt; | Pclass &lt;int&gt; | Name &lt;chr&gt; | Sex &lt;chr&gt; | Age &lt;dbl&gt; | SibSp &lt;int&gt; | Parch &lt;int&gt; | Ticket &lt;chr&gt; | Fare &lt;dbl&gt; | Cabin &lt;chr&gt; | Embarked &lt;chr&gt; |\n",
       "|---|---|---|---|---|---|---|---|---|---|---|---|---|\n",
       "| 1 | 1 | 0 | 3 | Braund, Mr. Owen Harris                             | male   | 22 | 1 | 0 | A/5 21171        |  7.2500 | <!----> | S |\n",
       "| 2 | 2 | 1 | 1 | Cumings, Mrs. John Bradley (Florence Briggs Thayer) | female | 38 | 1 | 0 | PC 17599         | 71.2833 | C85  | C |\n",
       "| 3 | 3 | 1 | 3 | Heikkinen, Miss. Laina                              | female | 26 | 0 | 0 | STON/O2. 3101282 |  7.9250 | <!----> | S |\n",
       "| 4 | 4 | 1 | 1 | Futrelle, Mrs. Jacques Heath (Lily May Peel)        | female | 35 | 1 | 0 | 113803           | 53.1000 | C123 | S |\n",
       "| 5 | 5 | 0 | 3 | Allen, Mr. William Henry                            | male   | 35 | 0 | 0 | 373450           |  8.0500 | <!----> | S |\n",
       "| 6 | 6 | 0 | 3 | Moran, Mr. James                                    | male   | NA | 0 | 0 | 330877           |  8.4583 | <!----> | Q |\n",
       "\n"
      ],
      "text/plain": [
       "  PassengerId Survived Pclass\n",
       "1 1           0        3     \n",
       "2 2           1        1     \n",
       "3 3           1        3     \n",
       "4 4           1        1     \n",
       "5 5           0        3     \n",
       "6 6           0        3     \n",
       "  Name                                                Sex    Age SibSp Parch\n",
       "1 Braund, Mr. Owen Harris                             male   22  1     0    \n",
       "2 Cumings, Mrs. John Bradley (Florence Briggs Thayer) female 38  1     0    \n",
       "3 Heikkinen, Miss. Laina                              female 26  0     0    \n",
       "4 Futrelle, Mrs. Jacques Heath (Lily May Peel)        female 35  1     0    \n",
       "5 Allen, Mr. William Henry                            male   35  0     0    \n",
       "6 Moran, Mr. James                                    male   NA  0     0    \n",
       "  Ticket           Fare    Cabin Embarked\n",
       "1 A/5 21171         7.2500       S       \n",
       "2 PC 17599         71.2833 C85   C       \n",
       "3 STON/O2. 3101282  7.9250       S       \n",
       "4 113803           53.1000 C123  S       \n",
       "5 373450            8.0500       S       \n",
       "6 330877            8.4583       Q       "
      ]
     },
     "metadata": {},
     "output_type": "display_data"
    },
    {
     "name": "stdout",
     "output_type": "stream",
     "text": [
      "[1] \"test data\"\n"
     ]
    },
    {
     "data": {
      "text/html": [
       "<table class=\"dataframe\">\n",
       "<caption>A data.frame: 6 × 11</caption>\n",
       "<thead>\n",
       "\t<tr><th></th><th scope=col>PassengerId</th><th scope=col>Pclass</th><th scope=col>Name</th><th scope=col>Sex</th><th scope=col>Age</th><th scope=col>SibSp</th><th scope=col>Parch</th><th scope=col>Ticket</th><th scope=col>Fare</th><th scope=col>Cabin</th><th scope=col>Embarked</th></tr>\n",
       "\t<tr><th></th><th scope=col>&lt;int&gt;</th><th scope=col>&lt;int&gt;</th><th scope=col>&lt;chr&gt;</th><th scope=col>&lt;chr&gt;</th><th scope=col>&lt;dbl&gt;</th><th scope=col>&lt;int&gt;</th><th scope=col>&lt;int&gt;</th><th scope=col>&lt;chr&gt;</th><th scope=col>&lt;dbl&gt;</th><th scope=col>&lt;chr&gt;</th><th scope=col>&lt;chr&gt;</th></tr>\n",
       "</thead>\n",
       "<tbody>\n",
       "\t<tr><th scope=row>1</th><td>892</td><td>3</td><td>Kelly, Mr. James                            </td><td>male  </td><td>34.5</td><td>0</td><td>0</td><td>330911 </td><td> 7.8292</td><td></td><td>Q</td></tr>\n",
       "\t<tr><th scope=row>2</th><td>893</td><td>3</td><td>Wilkes, Mrs. James (Ellen Needs)            </td><td>female</td><td>47.0</td><td>1</td><td>0</td><td>363272 </td><td> 7.0000</td><td></td><td>S</td></tr>\n",
       "\t<tr><th scope=row>3</th><td>894</td><td>2</td><td>Myles, Mr. Thomas Francis                   </td><td>male  </td><td>62.0</td><td>0</td><td>0</td><td>240276 </td><td> 9.6875</td><td></td><td>Q</td></tr>\n",
       "\t<tr><th scope=row>4</th><td>895</td><td>3</td><td>Wirz, Mr. Albert                            </td><td>male  </td><td>27.0</td><td>0</td><td>0</td><td>315154 </td><td> 8.6625</td><td></td><td>S</td></tr>\n",
       "\t<tr><th scope=row>5</th><td>896</td><td>3</td><td>Hirvonen, Mrs. Alexander (Helga E Lindqvist)</td><td>female</td><td>22.0</td><td>1</td><td>1</td><td>3101298</td><td>12.2875</td><td></td><td>S</td></tr>\n",
       "\t<tr><th scope=row>6</th><td>897</td><td>3</td><td>Svensson, Mr. Johan Cervin                  </td><td>male  </td><td>14.0</td><td>0</td><td>0</td><td>7538   </td><td> 9.2250</td><td></td><td>S</td></tr>\n",
       "</tbody>\n",
       "</table>\n"
      ],
      "text/latex": [
       "A data.frame: 6 × 11\n",
       "\\begin{tabular}{r|lllllllllll}\n",
       "  & PassengerId & Pclass & Name & Sex & Age & SibSp & Parch & Ticket & Fare & Cabin & Embarked\\\\\n",
       "  & <int> & <int> & <chr> & <chr> & <dbl> & <int> & <int> & <chr> & <dbl> & <chr> & <chr>\\\\\n",
       "\\hline\n",
       "\t1 & 892 & 3 & Kelly, Mr. James                             & male   & 34.5 & 0 & 0 & 330911  &  7.8292 &  & Q\\\\\n",
       "\t2 & 893 & 3 & Wilkes, Mrs. James (Ellen Needs)             & female & 47.0 & 1 & 0 & 363272  &  7.0000 &  & S\\\\\n",
       "\t3 & 894 & 2 & Myles, Mr. Thomas Francis                    & male   & 62.0 & 0 & 0 & 240276  &  9.6875 &  & Q\\\\\n",
       "\t4 & 895 & 3 & Wirz, Mr. Albert                             & male   & 27.0 & 0 & 0 & 315154  &  8.6625 &  & S\\\\\n",
       "\t5 & 896 & 3 & Hirvonen, Mrs. Alexander (Helga E Lindqvist) & female & 22.0 & 1 & 1 & 3101298 & 12.2875 &  & S\\\\\n",
       "\t6 & 897 & 3 & Svensson, Mr. Johan Cervin                   & male   & 14.0 & 0 & 0 & 7538    &  9.2250 &  & S\\\\\n",
       "\\end{tabular}\n"
      ],
      "text/markdown": [
       "\n",
       "A data.frame: 6 × 11\n",
       "\n",
       "| <!--/--> | PassengerId &lt;int&gt; | Pclass &lt;int&gt; | Name &lt;chr&gt; | Sex &lt;chr&gt; | Age &lt;dbl&gt; | SibSp &lt;int&gt; | Parch &lt;int&gt; | Ticket &lt;chr&gt; | Fare &lt;dbl&gt; | Cabin &lt;chr&gt; | Embarked &lt;chr&gt; |\n",
       "|---|---|---|---|---|---|---|---|---|---|---|---|\n",
       "| 1 | 892 | 3 | Kelly, Mr. James                             | male   | 34.5 | 0 | 0 | 330911  |  7.8292 | <!----> | Q |\n",
       "| 2 | 893 | 3 | Wilkes, Mrs. James (Ellen Needs)             | female | 47.0 | 1 | 0 | 363272  |  7.0000 | <!----> | S |\n",
       "| 3 | 894 | 2 | Myles, Mr. Thomas Francis                    | male   | 62.0 | 0 | 0 | 240276  |  9.6875 | <!----> | Q |\n",
       "| 4 | 895 | 3 | Wirz, Mr. Albert                             | male   | 27.0 | 0 | 0 | 315154  |  8.6625 | <!----> | S |\n",
       "| 5 | 896 | 3 | Hirvonen, Mrs. Alexander (Helga E Lindqvist) | female | 22.0 | 1 | 1 | 3101298 | 12.2875 | <!----> | S |\n",
       "| 6 | 897 | 3 | Svensson, Mr. Johan Cervin                   | male   | 14.0 | 0 | 0 | 7538    |  9.2250 | <!----> | S |\n",
       "\n"
      ],
      "text/plain": [
       "  PassengerId Pclass Name                                         Sex    Age \n",
       "1 892         3      Kelly, Mr. James                             male   34.5\n",
       "2 893         3      Wilkes, Mrs. James (Ellen Needs)             female 47.0\n",
       "3 894         2      Myles, Mr. Thomas Francis                    male   62.0\n",
       "4 895         3      Wirz, Mr. Albert                             male   27.0\n",
       "5 896         3      Hirvonen, Mrs. Alexander (Helga E Lindqvist) female 22.0\n",
       "6 897         3      Svensson, Mr. Johan Cervin                   male   14.0\n",
       "  SibSp Parch Ticket  Fare    Cabin Embarked\n",
       "1 0     0     330911   7.8292       Q       \n",
       "2 1     0     363272   7.0000       S       \n",
       "3 0     0     240276   9.6875       Q       \n",
       "4 0     0     315154   8.6625       S       \n",
       "5 1     1     3101298 12.2875       S       \n",
       "6 0     0     7538     9.2250       S       "
      ]
     },
     "metadata": {},
     "output_type": "display_data"
    }
   ],
   "source": [
    "df_train<-read.csv(\"train.csv\")\n",
    "df_test<-read.csv(\"test.csv\")\n",
    "head(df_train)\n",
    "print(\"test data\")\n",
    "head(df_test)"
   ]
  },
  {
   "cell_type": "markdown",
   "id": "ecc59674-a7cc-4a3b-bf7c-db843b574799",
   "metadata": {},
   "source": [
    "the above dataset is comprised of datasets as train and test as obtained from the kaggle competition dataset of \" Titanic - ML from Disaster\" <br>\n",
    "https://www.kaggle.com/c/titanic/data?select=train.csv <br>\n",
    "the target variable information (ground truth) for the test dataset is not given here so we can also use the r library to include it's dataset for a comprehensive analysis."
   ]
  },
  {
   "cell_type": "code",
   "execution_count": 3,
   "id": "2854074d-1909-47b5-be58-54cbb50525a6",
   "metadata": {
    "scrolled": true
   },
   "outputs": [
    {
     "data": {
      "text/html": [
       "<style>\n",
       ".list-inline {list-style: none; margin:0; padding: 0}\n",
       ".list-inline>li {display: inline-block}\n",
       ".list-inline>li:not(:last-child)::after {content: \"\\00b7\"; padding: 0 .5ex}\n",
       "</style>\n",
       "<ol class=list-inline><li>891</li><li>12</li></ol>\n"
      ],
      "text/latex": [
       "\\begin{enumerate*}\n",
       "\\item 891\n",
       "\\item 12\n",
       "\\end{enumerate*}\n"
      ],
      "text/markdown": [
       "1. 891\n",
       "2. 12\n",
       "\n",
       "\n"
      ],
      "text/plain": [
       "[1] 891  12"
      ]
     },
     "metadata": {},
     "output_type": "display_data"
    },
    {
     "data": {
      "text/html": [
       "<style>\n",
       ".list-inline {list-style: none; margin:0; padding: 0}\n",
       ".list-inline>li {display: inline-block}\n",
       ".list-inline>li:not(:last-child)::after {content: \"\\00b7\"; padding: 0 .5ex}\n",
       "</style>\n",
       "<ol class=list-inline><li>418</li><li>11</li></ol>\n"
      ],
      "text/latex": [
       "\\begin{enumerate*}\n",
       "\\item 418\n",
       "\\item 11\n",
       "\\end{enumerate*}\n"
      ],
      "text/markdown": [
       "1. 418\n",
       "2. 11\n",
       "\n",
       "\n"
      ],
      "text/plain": [
       "[1] 418  11"
      ]
     },
     "metadata": {},
     "output_type": "display_data"
    }
   ],
   "source": [
    "dim(df_train)\n",
    "dim(df_test)"
   ]
  },
  {
   "cell_type": "markdown",
   "id": "12725889-e25a-4943-935d-978fee85bc4d",
   "metadata": {
    "jp-MarkdownHeadingCollapsed": true
   },
   "source": [
    "### Attempting to use the titanic dataset using the titanic package in R to see if we can have survival rates for test data as well"
   ]
  },
  {
   "cell_type": "code",
   "execution_count": 4,
   "id": "e89c74fd-2caf-4c40-a0ab-e4820dbb6fbe",
   "metadata": {},
   "outputs": [
    {
     "name": "stderr",
     "output_type": "stream",
     "text": [
      "Warning message:\n",
      "\"package 'titanic' was built under R version 4.3.3\"\n"
     ]
    },
    {
     "data": {
      "text/html": [
       "<table class=\"dataframe\">\n",
       "<caption>A data.frame: 6 × 12</caption>\n",
       "<thead>\n",
       "\t<tr><th></th><th scope=col>PassengerId</th><th scope=col>Survived</th><th scope=col>Pclass</th><th scope=col>Name</th><th scope=col>Sex</th><th scope=col>Age</th><th scope=col>SibSp</th><th scope=col>Parch</th><th scope=col>Ticket</th><th scope=col>Fare</th><th scope=col>Cabin</th><th scope=col>Embarked</th></tr>\n",
       "\t<tr><th></th><th scope=col>&lt;int&gt;</th><th scope=col>&lt;int&gt;</th><th scope=col>&lt;int&gt;</th><th scope=col>&lt;chr&gt;</th><th scope=col>&lt;chr&gt;</th><th scope=col>&lt;dbl&gt;</th><th scope=col>&lt;int&gt;</th><th scope=col>&lt;int&gt;</th><th scope=col>&lt;chr&gt;</th><th scope=col>&lt;dbl&gt;</th><th scope=col>&lt;chr&gt;</th><th scope=col>&lt;chr&gt;</th></tr>\n",
       "</thead>\n",
       "<tbody>\n",
       "\t<tr><th scope=row>1</th><td>1</td><td>0</td><td>3</td><td>Braund, Mr. Owen Harris                            </td><td>male  </td><td>22</td><td>1</td><td>0</td><td>A/5 21171       </td><td> 7.2500</td><td>    </td><td>S</td></tr>\n",
       "\t<tr><th scope=row>2</th><td>2</td><td>1</td><td>1</td><td>Cumings, Mrs. John Bradley (Florence Briggs Thayer)</td><td>female</td><td>38</td><td>1</td><td>0</td><td>PC 17599        </td><td>71.2833</td><td>C85 </td><td>C</td></tr>\n",
       "\t<tr><th scope=row>3</th><td>3</td><td>1</td><td>3</td><td>Heikkinen, Miss. Laina                             </td><td>female</td><td>26</td><td>0</td><td>0</td><td>STON/O2. 3101282</td><td> 7.9250</td><td>    </td><td>S</td></tr>\n",
       "\t<tr><th scope=row>4</th><td>4</td><td>1</td><td>1</td><td>Futrelle, Mrs. Jacques Heath (Lily May Peel)       </td><td>female</td><td>35</td><td>1</td><td>0</td><td>113803          </td><td>53.1000</td><td>C123</td><td>S</td></tr>\n",
       "\t<tr><th scope=row>5</th><td>5</td><td>0</td><td>3</td><td>Allen, Mr. William Henry                           </td><td>male  </td><td>35</td><td>0</td><td>0</td><td>373450          </td><td> 8.0500</td><td>    </td><td>S</td></tr>\n",
       "\t<tr><th scope=row>6</th><td>6</td><td>0</td><td>3</td><td>Moran, Mr. James                                   </td><td>male  </td><td>NA</td><td>0</td><td>0</td><td>330877          </td><td> 8.4583</td><td>    </td><td>Q</td></tr>\n",
       "</tbody>\n",
       "</table>\n"
      ],
      "text/latex": [
       "A data.frame: 6 × 12\n",
       "\\begin{tabular}{r|llllllllllll}\n",
       "  & PassengerId & Survived & Pclass & Name & Sex & Age & SibSp & Parch & Ticket & Fare & Cabin & Embarked\\\\\n",
       "  & <int> & <int> & <int> & <chr> & <chr> & <dbl> & <int> & <int> & <chr> & <dbl> & <chr> & <chr>\\\\\n",
       "\\hline\n",
       "\t1 & 1 & 0 & 3 & Braund, Mr. Owen Harris                             & male   & 22 & 1 & 0 & A/5 21171        &  7.2500 &      & S\\\\\n",
       "\t2 & 2 & 1 & 1 & Cumings, Mrs. John Bradley (Florence Briggs Thayer) & female & 38 & 1 & 0 & PC 17599         & 71.2833 & C85  & C\\\\\n",
       "\t3 & 3 & 1 & 3 & Heikkinen, Miss. Laina                              & female & 26 & 0 & 0 & STON/O2. 3101282 &  7.9250 &      & S\\\\\n",
       "\t4 & 4 & 1 & 1 & Futrelle, Mrs. Jacques Heath (Lily May Peel)        & female & 35 & 1 & 0 & 113803           & 53.1000 & C123 & S\\\\\n",
       "\t5 & 5 & 0 & 3 & Allen, Mr. William Henry                            & male   & 35 & 0 & 0 & 373450           &  8.0500 &      & S\\\\\n",
       "\t6 & 6 & 0 & 3 & Moran, Mr. James                                    & male   & NA & 0 & 0 & 330877           &  8.4583 &      & Q\\\\\n",
       "\\end{tabular}\n"
      ],
      "text/markdown": [
       "\n",
       "A data.frame: 6 × 12\n",
       "\n",
       "| <!--/--> | PassengerId &lt;int&gt; | Survived &lt;int&gt; | Pclass &lt;int&gt; | Name &lt;chr&gt; | Sex &lt;chr&gt; | Age &lt;dbl&gt; | SibSp &lt;int&gt; | Parch &lt;int&gt; | Ticket &lt;chr&gt; | Fare &lt;dbl&gt; | Cabin &lt;chr&gt; | Embarked &lt;chr&gt; |\n",
       "|---|---|---|---|---|---|---|---|---|---|---|---|---|\n",
       "| 1 | 1 | 0 | 3 | Braund, Mr. Owen Harris                             | male   | 22 | 1 | 0 | A/5 21171        |  7.2500 | <!----> | S |\n",
       "| 2 | 2 | 1 | 1 | Cumings, Mrs. John Bradley (Florence Briggs Thayer) | female | 38 | 1 | 0 | PC 17599         | 71.2833 | C85  | C |\n",
       "| 3 | 3 | 1 | 3 | Heikkinen, Miss. Laina                              | female | 26 | 0 | 0 | STON/O2. 3101282 |  7.9250 | <!----> | S |\n",
       "| 4 | 4 | 1 | 1 | Futrelle, Mrs. Jacques Heath (Lily May Peel)        | female | 35 | 1 | 0 | 113803           | 53.1000 | C123 | S |\n",
       "| 5 | 5 | 0 | 3 | Allen, Mr. William Henry                            | male   | 35 | 0 | 0 | 373450           |  8.0500 | <!----> | S |\n",
       "| 6 | 6 | 0 | 3 | Moran, Mr. James                                    | male   | NA | 0 | 0 | 330877           |  8.4583 | <!----> | Q |\n",
       "\n"
      ],
      "text/plain": [
       "  PassengerId Survived Pclass\n",
       "1 1           0        3     \n",
       "2 2           1        1     \n",
       "3 3           1        3     \n",
       "4 4           1        1     \n",
       "5 5           0        3     \n",
       "6 6           0        3     \n",
       "  Name                                                Sex    Age SibSp Parch\n",
       "1 Braund, Mr. Owen Harris                             male   22  1     0    \n",
       "2 Cumings, Mrs. John Bradley (Florence Briggs Thayer) female 38  1     0    \n",
       "3 Heikkinen, Miss. Laina                              female 26  0     0    \n",
       "4 Futrelle, Mrs. Jacques Heath (Lily May Peel)        female 35  1     0    \n",
       "5 Allen, Mr. William Henry                            male   35  0     0    \n",
       "6 Moran, Mr. James                                    male   NA  0     0    \n",
       "  Ticket           Fare    Cabin Embarked\n",
       "1 A/5 21171         7.2500       S       \n",
       "2 PC 17599         71.2833 C85   C       \n",
       "3 STON/O2. 3101282  7.9250       S       \n",
       "4 113803           53.1000 C123  S       \n",
       "5 373450            8.0500       S       \n",
       "6 330877            8.4583       Q       "
      ]
     },
     "metadata": {},
     "output_type": "display_data"
    },
    {
     "data": {
      "text/html": [
       "<table class=\"dataframe\">\n",
       "<caption>A data.frame: 6 × 11</caption>\n",
       "<thead>\n",
       "\t<tr><th></th><th scope=col>PassengerId</th><th scope=col>Pclass</th><th scope=col>Name</th><th scope=col>Sex</th><th scope=col>Age</th><th scope=col>SibSp</th><th scope=col>Parch</th><th scope=col>Ticket</th><th scope=col>Fare</th><th scope=col>Cabin</th><th scope=col>Embarked</th></tr>\n",
       "\t<tr><th></th><th scope=col>&lt;int&gt;</th><th scope=col>&lt;int&gt;</th><th scope=col>&lt;chr&gt;</th><th scope=col>&lt;chr&gt;</th><th scope=col>&lt;dbl&gt;</th><th scope=col>&lt;int&gt;</th><th scope=col>&lt;int&gt;</th><th scope=col>&lt;chr&gt;</th><th scope=col>&lt;dbl&gt;</th><th scope=col>&lt;chr&gt;</th><th scope=col>&lt;chr&gt;</th></tr>\n",
       "</thead>\n",
       "<tbody>\n",
       "\t<tr><th scope=row>1</th><td>892</td><td>3</td><td>Kelly, Mr. James                            </td><td>male  </td><td>34.5</td><td>0</td><td>0</td><td>330911 </td><td> 7.8292</td><td></td><td>Q</td></tr>\n",
       "\t<tr><th scope=row>2</th><td>893</td><td>3</td><td>Wilkes, Mrs. James (Ellen Needs)            </td><td>female</td><td>47.0</td><td>1</td><td>0</td><td>363272 </td><td> 7.0000</td><td></td><td>S</td></tr>\n",
       "\t<tr><th scope=row>3</th><td>894</td><td>2</td><td>Myles, Mr. Thomas Francis                   </td><td>male  </td><td>62.0</td><td>0</td><td>0</td><td>240276 </td><td> 9.6875</td><td></td><td>Q</td></tr>\n",
       "\t<tr><th scope=row>4</th><td>895</td><td>3</td><td>Wirz, Mr. Albert                            </td><td>male  </td><td>27.0</td><td>0</td><td>0</td><td>315154 </td><td> 8.6625</td><td></td><td>S</td></tr>\n",
       "\t<tr><th scope=row>5</th><td>896</td><td>3</td><td>Hirvonen, Mrs. Alexander (Helga E Lindqvist)</td><td>female</td><td>22.0</td><td>1</td><td>1</td><td>3101298</td><td>12.2875</td><td></td><td>S</td></tr>\n",
       "\t<tr><th scope=row>6</th><td>897</td><td>3</td><td>Svensson, Mr. Johan Cervin                  </td><td>male  </td><td>14.0</td><td>0</td><td>0</td><td>7538   </td><td> 9.2250</td><td></td><td>S</td></tr>\n",
       "</tbody>\n",
       "</table>\n"
      ],
      "text/latex": [
       "A data.frame: 6 × 11\n",
       "\\begin{tabular}{r|lllllllllll}\n",
       "  & PassengerId & Pclass & Name & Sex & Age & SibSp & Parch & Ticket & Fare & Cabin & Embarked\\\\\n",
       "  & <int> & <int> & <chr> & <chr> & <dbl> & <int> & <int> & <chr> & <dbl> & <chr> & <chr>\\\\\n",
       "\\hline\n",
       "\t1 & 892 & 3 & Kelly, Mr. James                             & male   & 34.5 & 0 & 0 & 330911  &  7.8292 &  & Q\\\\\n",
       "\t2 & 893 & 3 & Wilkes, Mrs. James (Ellen Needs)             & female & 47.0 & 1 & 0 & 363272  &  7.0000 &  & S\\\\\n",
       "\t3 & 894 & 2 & Myles, Mr. Thomas Francis                    & male   & 62.0 & 0 & 0 & 240276  &  9.6875 &  & Q\\\\\n",
       "\t4 & 895 & 3 & Wirz, Mr. Albert                             & male   & 27.0 & 0 & 0 & 315154  &  8.6625 &  & S\\\\\n",
       "\t5 & 896 & 3 & Hirvonen, Mrs. Alexander (Helga E Lindqvist) & female & 22.0 & 1 & 1 & 3101298 & 12.2875 &  & S\\\\\n",
       "\t6 & 897 & 3 & Svensson, Mr. Johan Cervin                   & male   & 14.0 & 0 & 0 & 7538    &  9.2250 &  & S\\\\\n",
       "\\end{tabular}\n"
      ],
      "text/markdown": [
       "\n",
       "A data.frame: 6 × 11\n",
       "\n",
       "| <!--/--> | PassengerId &lt;int&gt; | Pclass &lt;int&gt; | Name &lt;chr&gt; | Sex &lt;chr&gt; | Age &lt;dbl&gt; | SibSp &lt;int&gt; | Parch &lt;int&gt; | Ticket &lt;chr&gt; | Fare &lt;dbl&gt; | Cabin &lt;chr&gt; | Embarked &lt;chr&gt; |\n",
       "|---|---|---|---|---|---|---|---|---|---|---|---|\n",
       "| 1 | 892 | 3 | Kelly, Mr. James                             | male   | 34.5 | 0 | 0 | 330911  |  7.8292 | <!----> | Q |\n",
       "| 2 | 893 | 3 | Wilkes, Mrs. James (Ellen Needs)             | female | 47.0 | 1 | 0 | 363272  |  7.0000 | <!----> | S |\n",
       "| 3 | 894 | 2 | Myles, Mr. Thomas Francis                    | male   | 62.0 | 0 | 0 | 240276  |  9.6875 | <!----> | Q |\n",
       "| 4 | 895 | 3 | Wirz, Mr. Albert                             | male   | 27.0 | 0 | 0 | 315154  |  8.6625 | <!----> | S |\n",
       "| 5 | 896 | 3 | Hirvonen, Mrs. Alexander (Helga E Lindqvist) | female | 22.0 | 1 | 1 | 3101298 | 12.2875 | <!----> | S |\n",
       "| 6 | 897 | 3 | Svensson, Mr. Johan Cervin                   | male   | 14.0 | 0 | 0 | 7538    |  9.2250 | <!----> | S |\n",
       "\n"
      ],
      "text/plain": [
       "  PassengerId Pclass Name                                         Sex    Age \n",
       "1 892         3      Kelly, Mr. James                             male   34.5\n",
       "2 893         3      Wilkes, Mrs. James (Ellen Needs)             female 47.0\n",
       "3 894         2      Myles, Mr. Thomas Francis                    male   62.0\n",
       "4 895         3      Wirz, Mr. Albert                             male   27.0\n",
       "5 896         3      Hirvonen, Mrs. Alexander (Helga E Lindqvist) female 22.0\n",
       "6 897         3      Svensson, Mr. Johan Cervin                   male   14.0\n",
       "  SibSp Parch Ticket  Fare    Cabin Embarked\n",
       "1 0     0     330911   7.8292       Q       \n",
       "2 1     0     363272   7.0000       S       \n",
       "3 0     0     240276   9.6875       Q       \n",
       "4 0     0     315154   8.6625       S       \n",
       "5 1     1     3101298 12.2875       S       \n",
       "6 0     0     7538     9.2250       S       "
      ]
     },
     "metadata": {},
     "output_type": "display_data"
    }
   ],
   "source": [
    "# install.packages(\"titanic\")\n",
    "\n",
    "library(\"titanic\")\n",
    "\n",
    "# Load the training dataset\n",
    "data(\"titanic_test\")\n",
    "\n",
    "head(titanic_train)\n",
    "head(titanic_test)"
   ]
  },
  {
   "cell_type": "markdown",
   "id": "a03a367f-6838-40fb-aa96-eb57fe585c14",
   "metadata": {},
   "source": [
    "the survived column is taken as the \"y\"( target variable) to be opted out of the test dataset. we've also found that the datasets available in R and kaggle as identical with no survived column provided for the test column. <br>\n",
    "\n",
    "This also hinders our ability to combine the two train and test datasets for a comprehensive EDA as the survived column for the test col will be null. "
   ]
  },
  {
   "cell_type": "code",
   "execution_count": 5,
   "id": "648a384b-bf27-49a5-a2d4-953dc85dc146",
   "metadata": {},
   "outputs": [
    {
     "name": "stdout",
     "output_type": "stream",
     "text": [
      "'data.frame':\t891 obs. of  12 variables:\n",
      " $ PassengerId: int  1 2 3 4 5 6 7 8 9 10 ...\n",
      " $ Survived   : int  0 1 1 1 0 0 0 0 1 1 ...\n",
      " $ Pclass     : int  3 1 3 1 3 3 1 3 3 2 ...\n",
      " $ Name       : chr  \"Braund, Mr. Owen Harris\" \"Cumings, Mrs. John Bradley (Florence Briggs Thayer)\" \"Heikkinen, Miss. Laina\" \"Futrelle, Mrs. Jacques Heath (Lily May Peel)\" ...\n",
      " $ Sex        : chr  \"male\" \"female\" \"female\" \"female\" ...\n",
      " $ Age        : num  22 38 26 35 35 NA 54 2 27 14 ...\n",
      " $ SibSp      : int  1 1 0 1 0 0 0 3 0 1 ...\n",
      " $ Parch      : int  0 0 0 0 0 0 0 1 2 0 ...\n",
      " $ Ticket     : chr  \"A/5 21171\" \"PC 17599\" \"STON/O2. 3101282\" \"113803\" ...\n",
      " $ Fare       : num  7.25 71.28 7.92 53.1 8.05 ...\n",
      " $ Cabin      : chr  \"\" \"C85\" \"\" \"C123\" ...\n",
      " $ Embarked   : chr  \"S\" \"C\" \"S\" \"S\" ...\n"
     ]
    }
   ],
   "source": [
    "str(df_train)"
   ]
  },
  {
   "cell_type": "markdown",
   "id": "63b9ee57-938c-4558-925d-d5744f15efa1",
   "metadata": {},
   "source": [
    "For the above reasons, we can use the train dataset for EDA purposes with 891 records across 12 columns for analysis that consider survived column and the full combined dataset of both train and test for comprehensive analysis. "
   ]
  },
  {
   "cell_type": "markdown",
   "id": "550aaa78-b743-4491-b6f7-680d388ad4e5",
   "metadata": {
    "jp-MarkdownHeadingCollapsed": true
   },
   "source": [
    "### Merging the data"
   ]
  },
  {
   "cell_type": "code",
   "execution_count": 6,
   "id": "2d8ff37a-0a39-44f4-abe0-06adbb909ce1",
   "metadata": {
    "scrolled": true
   },
   "outputs": [
    {
     "data": {
      "text/html": [
       "<table class=\"dataframe\">\n",
       "<caption>A data.frame: 6 × 12</caption>\n",
       "<thead>\n",
       "\t<tr><th></th><th scope=col>PassengerId</th><th scope=col>Survived</th><th scope=col>Pclass</th><th scope=col>Name</th><th scope=col>Sex</th><th scope=col>Age</th><th scope=col>SibSp</th><th scope=col>Parch</th><th scope=col>Ticket</th><th scope=col>Fare</th><th scope=col>Cabin</th><th scope=col>Embarked</th></tr>\n",
       "\t<tr><th></th><th scope=col>&lt;int&gt;</th><th scope=col>&lt;int&gt;</th><th scope=col>&lt;int&gt;</th><th scope=col>&lt;chr&gt;</th><th scope=col>&lt;chr&gt;</th><th scope=col>&lt;dbl&gt;</th><th scope=col>&lt;int&gt;</th><th scope=col>&lt;int&gt;</th><th scope=col>&lt;chr&gt;</th><th scope=col>&lt;dbl&gt;</th><th scope=col>&lt;chr&gt;</th><th scope=col>&lt;chr&gt;</th></tr>\n",
       "</thead>\n",
       "<tbody>\n",
       "\t<tr><th scope=row>1304</th><td>1304</td><td>NA</td><td>3</td><td>Henriksson, Miss. Jenny Lovisa</td><td>female</td><td>28.0</td><td>0</td><td>0</td><td>347086            </td><td>  7.7750</td><td>    </td><td>S</td></tr>\n",
       "\t<tr><th scope=row>1305</th><td>1305</td><td>NA</td><td>3</td><td>Spector, Mr. Woolf            </td><td>male  </td><td>  NA</td><td>0</td><td>0</td><td>A.5. 3236         </td><td>  8.0500</td><td>    </td><td>S</td></tr>\n",
       "\t<tr><th scope=row>1306</th><td>1306</td><td>NA</td><td>1</td><td>Oliva y Ocana, Dona. Fermina  </td><td>female</td><td>39.0</td><td>0</td><td>0</td><td>PC 17758          </td><td>108.9000</td><td>C105</td><td>C</td></tr>\n",
       "\t<tr><th scope=row>1307</th><td>1307</td><td>NA</td><td>3</td><td>Saether, Mr. Simon Sivertsen  </td><td>male  </td><td>38.5</td><td>0</td><td>0</td><td>SOTON/O.Q. 3101262</td><td>  7.2500</td><td>    </td><td>S</td></tr>\n",
       "\t<tr><th scope=row>1308</th><td>1308</td><td>NA</td><td>3</td><td>Ware, Mr. Frederick           </td><td>male  </td><td>  NA</td><td>0</td><td>0</td><td>359309            </td><td>  8.0500</td><td>    </td><td>S</td></tr>\n",
       "\t<tr><th scope=row>1309</th><td>1309</td><td>NA</td><td>3</td><td>Peter, Master. Michael J      </td><td>male  </td><td>  NA</td><td>1</td><td>1</td><td>2668              </td><td> 22.3583</td><td>    </td><td>C</td></tr>\n",
       "</tbody>\n",
       "</table>\n"
      ],
      "text/latex": [
       "A data.frame: 6 × 12\n",
       "\\begin{tabular}{r|llllllllllll}\n",
       "  & PassengerId & Survived & Pclass & Name & Sex & Age & SibSp & Parch & Ticket & Fare & Cabin & Embarked\\\\\n",
       "  & <int> & <int> & <int> & <chr> & <chr> & <dbl> & <int> & <int> & <chr> & <dbl> & <chr> & <chr>\\\\\n",
       "\\hline\n",
       "\t1304 & 1304 & NA & 3 & Henriksson, Miss. Jenny Lovisa & female & 28.0 & 0 & 0 & 347086             &   7.7750 &      & S\\\\\n",
       "\t1305 & 1305 & NA & 3 & Spector, Mr. Woolf             & male   &   NA & 0 & 0 & A.5. 3236          &   8.0500 &      & S\\\\\n",
       "\t1306 & 1306 & NA & 1 & Oliva y Ocana, Dona. Fermina   & female & 39.0 & 0 & 0 & PC 17758           & 108.9000 & C105 & C\\\\\n",
       "\t1307 & 1307 & NA & 3 & Saether, Mr. Simon Sivertsen   & male   & 38.5 & 0 & 0 & SOTON/O.Q. 3101262 &   7.2500 &      & S\\\\\n",
       "\t1308 & 1308 & NA & 3 & Ware, Mr. Frederick            & male   &   NA & 0 & 0 & 359309             &   8.0500 &      & S\\\\\n",
       "\t1309 & 1309 & NA & 3 & Peter, Master. Michael J       & male   &   NA & 1 & 1 & 2668               &  22.3583 &      & C\\\\\n",
       "\\end{tabular}\n"
      ],
      "text/markdown": [
       "\n",
       "A data.frame: 6 × 12\n",
       "\n",
       "| <!--/--> | PassengerId &lt;int&gt; | Survived &lt;int&gt; | Pclass &lt;int&gt; | Name &lt;chr&gt; | Sex &lt;chr&gt; | Age &lt;dbl&gt; | SibSp &lt;int&gt; | Parch &lt;int&gt; | Ticket &lt;chr&gt; | Fare &lt;dbl&gt; | Cabin &lt;chr&gt; | Embarked &lt;chr&gt; |\n",
       "|---|---|---|---|---|---|---|---|---|---|---|---|---|\n",
       "| 1304 | 1304 | NA | 3 | Henriksson, Miss. Jenny Lovisa | female | 28.0 | 0 | 0 | 347086             |   7.7750 | <!----> | S |\n",
       "| 1305 | 1305 | NA | 3 | Spector, Mr. Woolf             | male   |   NA | 0 | 0 | A.5. 3236          |   8.0500 | <!----> | S |\n",
       "| 1306 | 1306 | NA | 1 | Oliva y Ocana, Dona. Fermina   | female | 39.0 | 0 | 0 | PC 17758           | 108.9000 | C105 | C |\n",
       "| 1307 | 1307 | NA | 3 | Saether, Mr. Simon Sivertsen   | male   | 38.5 | 0 | 0 | SOTON/O.Q. 3101262 |   7.2500 | <!----> | S |\n",
       "| 1308 | 1308 | NA | 3 | Ware, Mr. Frederick            | male   |   NA | 0 | 0 | 359309             |   8.0500 | <!----> | S |\n",
       "| 1309 | 1309 | NA | 3 | Peter, Master. Michael J       | male   |   NA | 1 | 1 | 2668               |  22.3583 | <!----> | C |\n",
       "\n"
      ],
      "text/plain": [
       "     PassengerId Survived Pclass Name                           Sex    Age \n",
       "1304 1304        NA       3      Henriksson, Miss. Jenny Lovisa female 28.0\n",
       "1305 1305        NA       3      Spector, Mr. Woolf             male     NA\n",
       "1306 1306        NA       1      Oliva y Ocana, Dona. Fermina   female 39.0\n",
       "1307 1307        NA       3      Saether, Mr. Simon Sivertsen   male   38.5\n",
       "1308 1308        NA       3      Ware, Mr. Frederick            male     NA\n",
       "1309 1309        NA       3      Peter, Master. Michael J       male     NA\n",
       "     SibSp Parch Ticket             Fare     Cabin Embarked\n",
       "1304 0     0     347086               7.7750       S       \n",
       "1305 0     0     A.5. 3236            8.0500       S       \n",
       "1306 0     0     PC 17758           108.9000 C105  C       \n",
       "1307 0     0     SOTON/O.Q. 3101262   7.2500       S       \n",
       "1308 0     0     359309               8.0500       S       \n",
       "1309 1     1     2668                22.3583       C       "
      ]
     },
     "metadata": {},
     "output_type": "display_data"
    },
    {
     "data": {
      "text/html": [
       "<style>\n",
       ".list-inline {list-style: none; margin:0; padding: 0}\n",
       ".list-inline>li {display: inline-block}\n",
       ".list-inline>li:not(:last-child)::after {content: \"\\00b7\"; padding: 0 .5ex}\n",
       "</style>\n",
       "<ol class=list-inline><li>1309</li><li>12</li></ol>\n"
      ],
      "text/latex": [
       "\\begin{enumerate*}\n",
       "\\item 1309\n",
       "\\item 12\n",
       "\\end{enumerate*}\n"
      ],
      "text/markdown": [
       "1. 1309\n",
       "2. 12\n",
       "\n",
       "\n"
      ],
      "text/plain": [
       "[1] 1309   12"
      ]
     },
     "metadata": {},
     "output_type": "display_data"
    }
   ],
   "source": [
    "# merging the train and test datasets to create one comprehensive datasets. The records comming from test dataset will have empty for survived\n",
    "titanic<-bind_rows(df_train,df_test)\n",
    "\n",
    "tail(titanic)\n",
    "dim(titanic)"
   ]
  },
  {
   "cell_type": "markdown",
   "id": "30b76431-3ef9-4004-974d-ac9dbfcac3f0",
   "metadata": {},
   "source": [
    "## Exploratory Data Analysis"
   ]
  },
  {
   "cell_type": "code",
   "execution_count": 7,
   "id": "dbfe41ab-6573-42f2-8b7b-e498c0db53b3",
   "metadata": {},
   "outputs": [],
   "source": [
    "# Set plot size\n",
    "options(repr.plot.width = 10, repr.plot.height = 8) "
   ]
  },
  {
   "cell_type": "code",
   "execution_count": 8,
   "id": "b09e812d-72d3-4e7d-9bb2-310c7a73e723",
   "metadata": {},
   "outputs": [
    {
     "data": {
      "text/html": [
       "<style>\n",
       ".list-inline {list-style: none; margin:0; padding: 0}\n",
       ".list-inline>li {display: inline-block}\n",
       ".list-inline>li:not(:last-child)::after {content: \"\\00b7\"; padding: 0 .5ex}\n",
       "</style>\n",
       "<ol class=list-inline><li>'PassengerId'</li><li>'Survived'</li><li>'Pclass'</li><li>'Name'</li><li>'Sex'</li><li>'Age'</li><li>'SibSp'</li><li>'Parch'</li><li>'Ticket'</li><li>'Fare'</li><li>'Cabin'</li><li>'Embarked'</li></ol>\n"
      ],
      "text/latex": [
       "\\begin{enumerate*}\n",
       "\\item 'PassengerId'\n",
       "\\item 'Survived'\n",
       "\\item 'Pclass'\n",
       "\\item 'Name'\n",
       "\\item 'Sex'\n",
       "\\item 'Age'\n",
       "\\item 'SibSp'\n",
       "\\item 'Parch'\n",
       "\\item 'Ticket'\n",
       "\\item 'Fare'\n",
       "\\item 'Cabin'\n",
       "\\item 'Embarked'\n",
       "\\end{enumerate*}\n"
      ],
      "text/markdown": [
       "1. 'PassengerId'\n",
       "2. 'Survived'\n",
       "3. 'Pclass'\n",
       "4. 'Name'\n",
       "5. 'Sex'\n",
       "6. 'Age'\n",
       "7. 'SibSp'\n",
       "8. 'Parch'\n",
       "9. 'Ticket'\n",
       "10. 'Fare'\n",
       "11. 'Cabin'\n",
       "12. 'Embarked'\n",
       "\n",
       "\n"
      ],
      "text/plain": [
       " [1] \"PassengerId\" \"Survived\"    \"Pclass\"      \"Name\"        \"Sex\"        \n",
       " [6] \"Age\"         \"SibSp\"       \"Parch\"       \"Ticket\"      \"Fare\"       \n",
       "[11] \"Cabin\"       \"Embarked\"   "
      ]
     },
     "metadata": {},
     "output_type": "display_data"
    }
   ],
   "source": [
    "colnames(titanic)"
   ]
  },
  {
   "cell_type": "markdown",
   "id": "f2f91c66-2046-44f9-b8dc-bfe58da1f197",
   "metadata": {},
   "source": [
    " **Dataset column information**\n",
    "\n",
    "| Variable   | Definition                        | Key                              |\n",
    "|------------|------------------------------------|-----------------------------------|\n",
    "| survival   | Survival                          | 0 = No, 1 = Yes                  |\n",
    "| pclass     | Ticket class                      | 1 = 1st, 2 = 2nd, 3 = 3rd        |\n",
    "| sex        | Sex                               |                                   |\n",
    "| Age        | Age in years                      |                                   |\n",
    "| sibsp      | # of siblings / spouses aboard    |                                   |\n",
    "| parch      | # of parents / children aboard    |                                   |\n",
    "| ticket     | Ticket number                     |                                   |\n",
    "| fare       | Passenger fare                    |                                   |\n",
    "| cabin      | Cabin number                      |                                   |\n",
    "| embarked   | Port of Embarkation               | C = Cherbourg, Q = Queenstown, S = Southampton |\n",
    "\n"
   ]
  },
  {
   "cell_type": "code",
   "execution_count": 9,
   "id": "9d4c457c-4836-47b6-92e3-2e7eee7f6d6a",
   "metadata": {},
   "outputs": [
    {
     "data": {
      "text/plain": [
       "  PassengerId      Survived          Pclass          Name          \n",
       " Min.   :   1   Min.   :0.0000   Min.   :1.000   Length:1309       \n",
       " 1st Qu.: 328   1st Qu.:0.0000   1st Qu.:2.000   Class :character  \n",
       " Median : 655   Median :0.0000   Median :3.000   Mode  :character  \n",
       " Mean   : 655   Mean   :0.3838   Mean   :2.295                     \n",
       " 3rd Qu.: 982   3rd Qu.:1.0000   3rd Qu.:3.000                     \n",
       " Max.   :1309   Max.   :1.0000   Max.   :3.000                     \n",
       "                NA's   :418                                        \n",
       "     Sex                 Age            SibSp            Parch      \n",
       " Length:1309        Min.   : 0.17   Min.   :0.0000   Min.   :0.000  \n",
       " Class :character   1st Qu.:21.00   1st Qu.:0.0000   1st Qu.:0.000  \n",
       " Mode  :character   Median :28.00   Median :0.0000   Median :0.000  \n",
       "                    Mean   :29.88   Mean   :0.4989   Mean   :0.385  \n",
       "                    3rd Qu.:39.00   3rd Qu.:1.0000   3rd Qu.:0.000  \n",
       "                    Max.   :80.00   Max.   :8.0000   Max.   :9.000  \n",
       "                    NA's   :263                                     \n",
       "    Ticket               Fare            Cabin             Embarked        \n",
       " Length:1309        Min.   :  0.000   Length:1309        Length:1309       \n",
       " Class :character   1st Qu.:  7.896   Class :character   Class :character  \n",
       " Mode  :character   Median : 14.454   Mode  :character   Mode  :character  \n",
       "                    Mean   : 33.295                                        \n",
       "                    3rd Qu.: 31.275                                        \n",
       "                    Max.   :512.329                                        \n",
       "                    NA's   :1                                              "
      ]
     },
     "metadata": {},
     "output_type": "display_data"
    }
   ],
   "source": [
    "# summary statistics for all numerical columns\n",
    "summary(titanic)"
   ]
  },
  {
   "cell_type": "markdown",
   "id": "a040e294-f43c-49ab-b3b1-2d7f3829649e",
   "metadata": {},
   "source": [
    "from passenger data across 1309 rows, key findings are <br>\n",
    "mean age of a passenger on board: 29.88 -> around 30 years of age. <br>\n",
    "mean passenger fare : 33.295 British pounds (£)"
   ]
  },
  {
   "cell_type": "code",
   "execution_count": 21,
   "id": "d79e00d2-635e-408f-a793-6749544b5a29",
   "metadata": {},
   "outputs": [
    {
     "data": {
      "image/png": "[encoded data removed]",
      "text/plain": [
       "plot without title"
      ]
     },
     "metadata": {
      "image/png": {
       "height": 480,
       "width": 600
      }
     },
     "output_type": "display_data"
    }
   ],
   "source": [
    "ggplot(titanic, aes(x = Sex, fill = Sex)) +\n",
    "  geom_bar() +\n",
    "  labs(title = \"Distribution of Gender in passngers\", x = \"Sex\", y = \"Count\") +\n",
    "  scale_fill_manual(values = c(\"male\" = \"skyblue\", \"female\" = \"pink\")) +\n",
    "  theme_minimal()"
   ]
  },
  {
   "cell_type": "code",
   "execution_count": 10,
   "id": "e0b97819-4ac5-4deb-91d9-f62eef71041e",
   "metadata": {},
   "outputs": [
    {
     "data": {
      "text/plain": [
       "\n",
       "  1   2   3 \n",
       "323 277 709 "
      ]
     },
     "metadata": {},
     "output_type": "display_data"
    }
   ],
   "source": [
    "table(titanic$Pclass)"
   ]
  },
  {
   "cell_type": "markdown",
   "id": "efcdec4c-97d3-4e10-a0dc-ae762755c70f",
   "metadata": {},
   "source": [
    "Most of the passengers are taking the passenger class 3 with roughly equal numbers are on board the ship for class 1 and 2."
   ]
  },
  {
   "cell_type": "code",
   "execution_count": 33,
   "id": "3c615719-30fd-4bf8-93df-c340598b188e",
   "metadata": {},
   "outputs": [
    {
     "data": {
      "text/plain": [
       "\n",
       "  0   1 \n",
       "549 342 "
      ]
     },
     "metadata": {},
     "output_type": "display_data"
    },
    {
     "name": "stdout",
     "output_type": "stream",
     "text": [
      "[1] \"38.38 % of passengers survived\"\n"
     ]
    }
   ],
   "source": [
    "table(df_train$Survived)\n",
    "\n",
    "survival_rate <- (sum(df_train$Survived == 1, na.rm = TRUE) / length(df_train$Survived)) * 100\n",
    "\n",
    "print(paste(round(survival_rate, 2), \"% of passengers survived\"))"
   ]
  },
  {
   "cell_type": "markdown",
   "id": "ec5f6e53-8029-4707-836b-f5860cb29f6e",
   "metadata": {},
   "source": [
    "Survival rates from the training datasets of 891 records reveal 38.38% of survival rate"
   ]
  },
  {
   "cell_type": "code",
   "execution_count": 12,
   "id": "6182f289-c108-4a07-a46c-0e1a0d70dad7",
   "metadata": {},
   "outputs": [
    {
     "data": {
      "image/png": "[encoded data removed]",
      "text/plain": [
       "plot without title"
      ]
     },
     "metadata": {
      "image/png": {
       "height": 480,
       "width": 600
      }
     },
     "output_type": "display_data"
    }
   ],
   "source": [
    "ggplot(df_train, aes(x = Survived, fill = Sex)) +\n",
    "  geom_bar() +\n",
    "  labs(title = \"Survival rates across genders\", x = \"Survived\", y = \"Count\") +\n",
    "  theme_minimal() +\n",
    "  scale_fill_manual(values = c(\"male\" = \"blue\", \"female\" = \"pink\"))"
   ]
  },
  {
   "cell_type": "markdown",
   "id": "31c6dafe-5f58-43e9-8409-8d45e4aa36d5",
   "metadata": {},
   "source": [
    "Most of the passengers in the training data has not survived with 342 survival. More females have survived than males though the ratio of males and females board the ship"
   ]
  },
  {
   "cell_type": "code",
   "execution_count": 13,
   "id": "4b9dab6a-9cda-43d1-890e-21d08d8a0228",
   "metadata": {},
   "outputs": [
    {
     "data": {
      "image/png": "[encoded data removed]",
      "text/plain": [
       "plot without title"
      ]
     },
     "metadata": {
      "image/png": {
       "height": 480,
       "width": 600
      }
     },
     "output_type": "display_data"
    }
   ],
   "source": [
    "#proportional bar plots to,\n",
    "# Plot survival rates across different passenger classes\n",
    "ggplot(df_train, aes(x = factor(Pclass), fill = factor(Survived))) + \n",
    "  geom_bar(position = \"fill\") +  # \"fill\" stacks the bars to show proportions\n",
    "  labs(title = \"Survival Rates Across Passenger Classes\", \n",
    "       x = \"Passenger Class\", \n",
    "       y = \"Proportion of Passengers\") +\n",
    "  scale_fill_manual(values = c(\"0\" = \"red\", \"1\" = \"green\"), \n",
    "                    labels = c(\"Died\", \"Survived\")) +\n",
    "  theme_minimal()"
   ]
  },
  {
   "cell_type": "code",
   "execution_count": 35,
   "id": "1fbe9ba4-784c-41df-8977-48e944ee10af",
   "metadata": {},
   "outputs": [
    {
     "data": {
      "image/png": "[encoded data removed]",
      "text/plain": [
       "plot without title"
      ]
     },
     "metadata": {
      "image/png": {
       "height": 480,
       "width": 600
      }
     },
     "output_type": "display_data"
    }
   ],
   "source": [
    "ggplot(titanic, aes(x = factor(Survived), y = Fare)) +\n",
    "  geom_boxplot(fill = \"lightblue\", color = \"black\", na.rm = TRUE) +  # Boxplot with light blue fill and black borders\n",
    "  labs(title = \"Distribution of Fare depending on Survived\", \n",
    "       x = \"Survived\", y = \"Fare\") +\n",
    "  theme_minimal() +\n",
    "  theme(plot.title = element_text(hjust = 0.5, vjust = 1.02, size=20))  # Centering the title and adjust its position"
   ]
  },
  {
   "cell_type": "markdown",
   "id": "bb75cc2d-9cfb-4f5c-847d-f564ab823824",
   "metadata": {},
   "source": [
    "we can conclude that the passenger class has been a deciding factor on whether the passengers survived or not. "
   ]
  },
  {
   "cell_type": "code",
   "execution_count": 34,
   "id": "842c96a0-908b-4727-8adf-7d6805570858",
   "metadata": {},
   "outputs": [
    {
     "data": {
      "text/html": [
       "<style>\n",
       ".dl-inline {width: auto; margin:0; padding: 0}\n",
       ".dl-inline>dt, .dl-inline>dd {float: none; width: auto; display: inline-block}\n",
       ".dl-inline>dt::after {content: \":\\0020\"; padding-right: .5ex}\n",
       ".dl-inline>dt:not(:first-of-type) {padding-left: .5ex}\n",
       "</style><dl class=dl-inline><dt>PassengerId</dt><dd>0</dd><dt>Survived</dt><dd>418</dd><dt>Pclass</dt><dd>0</dd><dt>Sex</dt><dd>0</dd><dt>Age</dt><dd>263</dd><dt>SibSp</dt><dd>0</dd><dt>Parch</dt><dd>0</dd><dt>Fare</dt><dd>0</dd><dt>Cabin</dt><dd>0</dd><dt>Embarked</dt><dd>0</dd></dl>\n"
      ],
      "text/latex": [
       "\\begin{description*}\n",
       "\\item[PassengerId] 0\n",
       "\\item[Survived] 418\n",
       "\\item[Pclass] 0\n",
       "\\item[Sex] 0\n",
       "\\item[Age] 263\n",
       "\\item[SibSp] 0\n",
       "\\item[Parch] 0\n",
       "\\item[Fare] 0\n",
       "\\item[Cabin] 0\n",
       "\\item[Embarked] 0\n",
       "\\end{description*}\n"
      ],
      "text/markdown": [
       "PassengerId\n",
       ":   0Survived\n",
       ":   418Pclass\n",
       ":   0Sex\n",
       ":   0Age\n",
       ":   263SibSp\n",
       ":   0Parch\n",
       ":   0Fare\n",
       ":   0Cabin\n",
       ":   0Embarked\n",
       ":   0\n",
       "\n"
      ],
      "text/plain": [
       "PassengerId    Survived      Pclass         Sex         Age       SibSp \n",
       "          0         418           0           0         263           0 \n",
       "      Parch        Fare       Cabin    Embarked \n",
       "          0           0           0           0 "
      ]
     },
     "metadata": {},
     "output_type": "display_data"
    },
    {
     "data": {
      "text/html": [
       "1014"
      ],
      "text/latex": [
       "1014"
      ],
      "text/markdown": [
       "1014"
      ],
      "text/plain": [
       "[1] 1014"
      ]
     },
     "metadata": {},
     "output_type": "display_data"
    },
    {
     "data": {
      "text/html": [
       "2"
      ],
      "text/latex": [
       "2"
      ],
      "text/markdown": [
       "2"
      ],
      "text/plain": [
       "[1] 2"
      ]
     },
     "metadata": {},
     "output_type": "display_data"
    }
   ],
   "source": [
    "# Get the number of NA values for each column\n",
    "colSums(is.na(titanic)) #colsums sums up the true and false values\n",
    "\n",
    "#empty values for cabin and embarked\n",
    " sum(titanic$Cabin == \"\")\n",
    "sum(titanic$Embarked ==\"\")"
   ]
  },
  {
   "cell_type": "markdown",
   "id": "f71adfd0-008b-4c13-bf3a-06c6df5b8605",
   "metadata": {},
   "source": [
    "dropping the name and ticket columns as they will not be useful for analysis. we'll have to fill the missing values of age,embarked and fare."
   ]
  },
  {
   "cell_type": "code",
   "execution_count": 15,
   "id": "e4f71263-9a85-4c1e-b494-7bf6ebdcaabe",
   "metadata": {},
   "outputs": [],
   "source": [
    "titanic <- select(titanic,-Name, -Ticket) # dropping the cabin column from the dataset"
   ]
  },
  {
   "cell_type": "code",
   "execution_count": 16,
   "id": "9a95df63-75a0-4191-9ceb-b8d3cfcc5e4c",
   "metadata": {},
   "outputs": [
    {
     "data": {
      "text/html": [
       "<table class=\"dataframe\">\n",
       "<caption>A data.frame: 6 × 10</caption>\n",
       "<thead>\n",
       "\t<tr><th></th><th scope=col>PassengerId</th><th scope=col>Survived</th><th scope=col>Pclass</th><th scope=col>Sex</th><th scope=col>Age</th><th scope=col>SibSp</th><th scope=col>Parch</th><th scope=col>Fare</th><th scope=col>Cabin</th><th scope=col>Embarked</th></tr>\n",
       "\t<tr><th></th><th scope=col>&lt;int&gt;</th><th scope=col>&lt;int&gt;</th><th scope=col>&lt;int&gt;</th><th scope=col>&lt;chr&gt;</th><th scope=col>&lt;dbl&gt;</th><th scope=col>&lt;int&gt;</th><th scope=col>&lt;int&gt;</th><th scope=col>&lt;dbl&gt;</th><th scope=col>&lt;chr&gt;</th><th scope=col>&lt;chr&gt;</th></tr>\n",
       "</thead>\n",
       "<tbody>\n",
       "\t<tr><th scope=row>1304</th><td>1304</td><td>NA</td><td>3</td><td>female</td><td>28.0</td><td>0</td><td>0</td><td>  7.7750</td><td>    </td><td>S</td></tr>\n",
       "\t<tr><th scope=row>1305</th><td>1305</td><td>NA</td><td>3</td><td>male  </td><td>  NA</td><td>0</td><td>0</td><td>  8.0500</td><td>    </td><td>S</td></tr>\n",
       "\t<tr><th scope=row>1306</th><td>1306</td><td>NA</td><td>1</td><td>female</td><td>39.0</td><td>0</td><td>0</td><td>108.9000</td><td>C105</td><td>C</td></tr>\n",
       "\t<tr><th scope=row>1307</th><td>1307</td><td>NA</td><td>3</td><td>male  </td><td>38.5</td><td>0</td><td>0</td><td>  7.2500</td><td>    </td><td>S</td></tr>\n",
       "\t<tr><th scope=row>1308</th><td>1308</td><td>NA</td><td>3</td><td>male  </td><td>  NA</td><td>0</td><td>0</td><td>  8.0500</td><td>    </td><td>S</td></tr>\n",
       "\t<tr><th scope=row>1309</th><td>1309</td><td>NA</td><td>3</td><td>male  </td><td>  NA</td><td>1</td><td>1</td><td> 22.3583</td><td>    </td><td>C</td></tr>\n",
       "</tbody>\n",
       "</table>\n"
      ],
      "text/latex": [
       "A data.frame: 6 × 10\n",
       "\\begin{tabular}{r|llllllllll}\n",
       "  & PassengerId & Survived & Pclass & Sex & Age & SibSp & Parch & Fare & Cabin & Embarked\\\\\n",
       "  & <int> & <int> & <int> & <chr> & <dbl> & <int> & <int> & <dbl> & <chr> & <chr>\\\\\n",
       "\\hline\n",
       "\t1304 & 1304 & NA & 3 & female & 28.0 & 0 & 0 &   7.7750 &      & S\\\\\n",
       "\t1305 & 1305 & NA & 3 & male   &   NA & 0 & 0 &   8.0500 &      & S\\\\\n",
       "\t1306 & 1306 & NA & 1 & female & 39.0 & 0 & 0 & 108.9000 & C105 & C\\\\\n",
       "\t1307 & 1307 & NA & 3 & male   & 38.5 & 0 & 0 &   7.2500 &      & S\\\\\n",
       "\t1308 & 1308 & NA & 3 & male   &   NA & 0 & 0 &   8.0500 &      & S\\\\\n",
       "\t1309 & 1309 & NA & 3 & male   &   NA & 1 & 1 &  22.3583 &      & C\\\\\n",
       "\\end{tabular}\n"
      ],
      "text/markdown": [
       "\n",
       "A data.frame: 6 × 10\n",
       "\n",
       "| <!--/--> | PassengerId &lt;int&gt; | Survived &lt;int&gt; | Pclass &lt;int&gt; | Sex &lt;chr&gt; | Age &lt;dbl&gt; | SibSp &lt;int&gt; | Parch &lt;int&gt; | Fare &lt;dbl&gt; | Cabin &lt;chr&gt; | Embarked &lt;chr&gt; |\n",
       "|---|---|---|---|---|---|---|---|---|---|---|\n",
       "| 1304 | 1304 | NA | 3 | female | 28.0 | 0 | 0 |   7.7750 | <!----> | S |\n",
       "| 1305 | 1305 | NA | 3 | male   |   NA | 0 | 0 |   8.0500 | <!----> | S |\n",
       "| 1306 | 1306 | NA | 1 | female | 39.0 | 0 | 0 | 108.9000 | C105 | C |\n",
       "| 1307 | 1307 | NA | 3 | male   | 38.5 | 0 | 0 |   7.2500 | <!----> | S |\n",
       "| 1308 | 1308 | NA | 3 | male   |   NA | 0 | 0 |   8.0500 | <!----> | S |\n",
       "| 1309 | 1309 | NA | 3 | male   |   NA | 1 | 1 |  22.3583 | <!----> | C |\n",
       "\n"
      ],
      "text/plain": [
       "     PassengerId Survived Pclass Sex    Age  SibSp Parch Fare     Cabin\n",
       "1304 1304        NA       3      female 28.0 0     0       7.7750      \n",
       "1305 1305        NA       3      male     NA 0     0       8.0500      \n",
       "1306 1306        NA       1      female 39.0 0     0     108.9000 C105 \n",
       "1307 1307        NA       3      male   38.5 0     0       7.2500      \n",
       "1308 1308        NA       3      male     NA 0     0       8.0500      \n",
       "1309 1309        NA       3      male     NA 1     1      22.3583      \n",
       "     Embarked\n",
       "1304 S       \n",
       "1305 S       \n",
       "1306 C       \n",
       "1307 S       \n",
       "1308 S       \n",
       "1309 C       "
      ]
     },
     "metadata": {},
     "output_type": "display_data"
    }
   ],
   "source": [
    "tail(titanic)"
   ]
  },
  {
   "cell_type": "code",
   "execution_count": 17,
   "id": "f9194c3e-e43e-4dc6-806d-020cc728faa5",
   "metadata": {},
   "outputs": [],
   "source": [
    "# distinct(titanic, Pclass, Fare)"
   ]
  },
  {
   "cell_type": "code",
   "execution_count": 18,
   "id": "5dd1706d-ffc4-4fd9-8e7a-1a6e61db481a",
   "metadata": {},
   "outputs": [],
   "source": [
    "#replacing the missing fare value\n",
    "mean_fare <- mean(titanic$Fare, na.rm = TRUE)\n",
    "\n",
    "# Replace NA values with the mean\n",
    "titanic$Fare[is.na(titanic$Fare)] <- mean_fare"
   ]
  },
  {
   "cell_type": "code",
   "execution_count": 19,
   "id": "9e63c29a-2d63-486a-af5d-70caa6956347",
   "metadata": {},
   "outputs": [
    {
     "name": "stdout",
     "output_type": "stream",
     "text": [
      "\u001b[90m# A tibble: 10 × 3\u001b[39m\n",
      "\u001b[90m# Groups:   Pclass, Embarked [10]\u001b[39m\n",
      "   Pclass Embarked Average_Fare\n",
      "    \u001b[3m\u001b[90m<int>\u001b[39m\u001b[23m \u001b[3m\u001b[90m<chr>\u001b[39m\u001b[23m           \u001b[3m\u001b[90m<dbl>\u001b[39m\u001b[23m\n",
      "\u001b[90m 1\u001b[39m      1 \u001b[90m\"\u001b[39m\u001b[90m\"\u001b[39m               80  \n",
      "\u001b[90m 2\u001b[39m      1 \u001b[90m\"\u001b[39mC\u001b[90m\"\u001b[39m             107. \n",
      "\u001b[90m 3\u001b[39m      1 \u001b[90m\"\u001b[39mQ\u001b[90m\"\u001b[39m              90  \n",
      "\u001b[90m 4\u001b[39m      1 \u001b[90m\"\u001b[39mS\u001b[90m\"\u001b[39m              72.1\n",
      "\u001b[90m 5\u001b[39m      2 \u001b[90m\"\u001b[39mC\u001b[90m\"\u001b[39m              23.3\n",
      "\u001b[90m 6\u001b[39m      2 \u001b[90m\"\u001b[39mQ\u001b[90m\"\u001b[39m              11.7\n",
      "\u001b[90m 7\u001b[39m      2 \u001b[90m\"\u001b[39mS\u001b[90m\"\u001b[39m              21.2\n",
      "\u001b[90m 8\u001b[39m      3 \u001b[90m\"\u001b[39mC\u001b[90m\"\u001b[39m              11.0\n",
      "\u001b[90m 9\u001b[39m      3 \u001b[90m\"\u001b[39mQ\u001b[90m\"\u001b[39m              10.4\n",
      "\u001b[90m10\u001b[39m      3 \u001b[90m\"\u001b[39mS\u001b[90m\"\u001b[39m              14.5\n"
     ]
    }
   ],
   "source": [
    "# Group by Passenger class and Embarked port and calculate the average Fare\n",
    "grouped_data <- titanic %>%\n",
    "  group_by(Pclass, Embarked) %>%\n",
    "  summarise(Average_Fare = mean(Fare), .groups = \"keep\")\n",
    "print(grouped_data)"
   ]
  },
  {
   "cell_type": "code",
   "execution_count": 20,
   "id": "3c2314c4-9d6e-437e-be89-3f490a7f742a",
   "metadata": {},
   "outputs": [
    {
     "data": {
      "image/png": "[encoded data removed]",
      "text/plain": [
       "plot without title"
      ]
     },
     "metadata": {
      "image/png": {
       "height": 480,
       "width": 600
      }
     },
     "output_type": "display_data"
    }
   ],
   "source": [
    "ggplot(titanic, aes(x = Fare)) +\n",
    "  geom_density(fill = \"lightblue\", color = \"darkblue\", alpha = 0.6, na.rm = TRUE) + \n",
    "  labs(\n",
    "    title = \"Kernel Density Estimate of Fare Distribution\",\n",
    "    x = \"Fare\",\n",
    "    y = \"Density\"\n",
    "  ) +\n",
    "  theme_minimal() +\n",
    "theme(plot.title=element_text(size=20))"
   ]
  },
  {
   "cell_type": "markdown",
   "id": "5811c116-3811-4ee2-abbd-582a7baf13cc",
   "metadata": {},
   "source": [
    "Ticket pricing according to: https://highseascruising.com/how-much-was-a-ticket-on-the-titanic/\n",
    "\n",
    "|Class\t|Price in 1912 (£)|\n",
    "|-------|-----------------|\n",
    "|First Class Suite\t|£870\t|\n",
    "|First Class Berth\t|£30\t|\n",
    "|Second Class\t|£12\t|\n",
    "|Third Class\t|£7\t|"
   ]
  },
  {
   "cell_type": "code",
   "execution_count": 22,
   "id": "eac3876e-6d19-4b49-9225-2418f350db03",
   "metadata": {},
   "outputs": [
    {
     "data": {
      "image/png": "[encoded data removed]",
      "text/plain": [
       "plot without title"
      ]
     },
     "metadata": {
      "image/png": {
       "height": 480,
       "width": 600
      }
     },
     "output_type": "display_data"
    }
   ],
   "source": [
    "#plotting for age distribution\n",
    "ggplot(titanic, aes(x=Age))+\n",
    "geom_histogram(binwidth=8,fill=\"orange\", color=\"black\",na.rm = TRUE)+\n",
    "labs(title=\"Distribution of Ages in Titanic Passengers\") #na.rm removes all NA values"
   ]
  },
  {
   "cell_type": "code",
   "execution_count": 23,
   "id": "ad55f0a9-a62c-40d1-a8f7-68e91399ec2e",
   "metadata": {},
   "outputs": [
    {
     "name": "stdout",
     "output_type": "stream",
     "text": [
      "[1] \"154 of passengers were below 18 years old children\"\n",
      "[1] \"11.76  % of passengers are thus underage \"\n"
     ]
    }
   ],
   "source": [
    "under_18 <- titanic %>% \n",
    "  filter(Age < 18)\n",
    "  \n",
    "count_under_18 <- nrow(under_18)\n",
    "\n",
    "print(paste(count_under_18, \"of passengers were below 18 years old children\"))\n",
    "print(paste(round(count_under_18 / nrow(titanic) * 100, 2), \" % of passengers are thus underage \"))\n"
   ]
  },
  {
   "cell_type": "code",
   "execution_count": 24,
   "id": "e02e550c-29d0-40c6-a5e2-e178e7279952",
   "metadata": {},
   "outputs": [
    {
     "data": {
      "image/png": "[encoded data removed]",
      "text/plain": [
       "plot without title"
      ]
     },
     "metadata": {
      "image/png": {
       "height": 480,
       "width": 600
      }
     },
     "output_type": "display_data"
    }
   ],
   "source": [
    "ggplot(under_18, aes(x = Survived , fill = factor(Survived))) +\n",
    "  geom_bar(na.rm = TRUE) +\n",
    "  labs(title = \"Survival rates among children\", x = \"Survived\", y = \"Count\") +\n",
    "scale_fill_manual(values = c(\"0\" = \"red\", \"1\" = \"green\"))\n"
   ]
  },
  {
   "cell_type": "code",
   "execution_count": 37,
   "id": "0143807b-f655-45a4-b5a2-edd7fc508516",
   "metadata": {},
   "outputs": [
    {
     "data": {
      "text/plain": [
       "\n",
       "      C   Q   S \n",
       "  2 270 123 914 "
      ]
     },
     "metadata": {},
     "output_type": "display_data"
    },
    {
     "data": {
      "image/png": "[encoded data removed]",
      "text/plain": [
       "plot without title"
      ]
     },
     "metadata": {
      "image/png": {
       "height": 480,
       "width": 600
      }
     },
     "output_type": "display_data"
    }
   ],
   "source": [
    "titanic %>%\n",
    "  ggplot(aes(x = \"\", fill = Embarked)) +  \n",
    "  geom_bar(width = 1, show.legend = TRUE) +  \n",
    "  coord_polar(theta = 'y') +  # Convert the bar chart to a pie chart\n",
    "  labs(title = \"Distribution of Passengers Based on Where They Got on the Ship\") +\n",
    " scale_fill_manual(values = c(\"C\" = \"blue\", \"Q\" = \"green\", \"S\" = \"coral\")) +  \n",
    "  theme_minimal()+\n",
    "theme(plot.title = element_text(size = 20))\n",
    "\n",
    "table(titanic$Embarked)"
   ]
  },
  {
   "cell_type": "markdown",
   "id": "eb768bcd-ab1f-4eec-912c-bb25dd4ae695",
   "metadata": {},
   "source": [
    "C = Cherbourg, Q = Queenstown, S = Southampton <br>\n",
    "Thus, over 2/3 of the passengers have boarded the ship from southampton UK followed by Cherbourg, France and Queenstown in Ireland "
   ]
  },
  {
   "cell_type": "code",
   "execution_count": 26,
   "id": "2271c58b-a4d8-4716-a9dd-dff433d697f9",
   "metadata": {},
   "outputs": [
    {
     "data": {
      "image/png": "[encoded data removed]",
      "text/plain": [
       "plot without title"
      ]
     },
     "metadata": {
      "image/png": {
       "height": 480,
       "width": 600
      }
     },
     "output_type": "display_data"
    }
   ],
   "source": [
    "ggplot(titanic, aes(x = Embarked, fill = factor(Pclass))) +\n",
    "  geom_bar(position = \"dodge\") +  # 'dodge' makes bars for different Pclass appear side by side\n",
    "  labs(title = \"Count of Passengers by Embarked Location and Pclass\", \n",
    "       x = \"Embarked\", y = \"Count\") +\n",
    "  scale_fill_manual(values = c(\"1\" = \"lightblue\", \"2\" = \"lightgreen\", \"3\" = \"lightcoral\")) +  # Customize colors for Pclass\n",
    "  theme_minimal()+\n",
    "theme(plot.title = element_text(size = 20))"
   ]
  },
  {
   "cell_type": "markdown",
   "id": "a7c5ebd6-e83e-4fa5-95de-41af4a1aaf64",
   "metadata": {},
   "source": [
    "more of a proportion of passengers from France have choosen 1st and 2nd class compared to british and irish passengers."
   ]
  },
  {
   "cell_type": "code",
   "execution_count": 27,
   "id": "d44befb2-ffc8-4f4c-af2e-9b3540fb1a71",
   "metadata": {},
   "outputs": [
    {
     "name": "stderr",
     "output_type": "stream",
     "text": [
      "Warning message:\n",
      "\"package 'corrplot' was built under R version 4.3.3\"\n",
      "corrplot 0.95 loaded\n",
      "\n"
     ]
    },
    {
     "data": {
      "image/png": "[encoded data removed]",
      "text/plain": [
       "Plot with title \"Correlation Between Selected Variables\""
      ]
     },
     "metadata": {
      "image/png": {
       "height": 480,
       "width": 600
      }
     },
     "output_type": "display_data"
    }
   ],
   "source": [
    "# install.packages(\"corrplot\")\n",
    "library(corrplot)\n",
    "\n",
    "\n",
    "df_numericalvars <- titanic[, sapply(titanic, is.numeric)]  # Select numerical columns\n",
    "corr <- cor(df_numericalvars, use = \"complete.obs\")  # Calculate the correlation matrix\n",
    "\n",
    "# Plot the correlation matrix using corrplot\n",
    "corrplot(corr, method = \"circle\", type = \"upper\", tl.col = \"black\", \n",
    "         title = \"Correlation Between Selected Variables\", mar = c(0, 0, 1, 0))"
   ]
  },
  {
   "cell_type": "markdown",
   "id": "a4967f85-4f86-4493-9a7a-342a4bae8c2a",
   "metadata": {},
   "source": [
    "Negative correlation between fare and Passenger class is clear as class 3 means lesser fares and class 1 is higher fares. There is a slightly positive correlation between siblings and spouses being on board and parents/children being on board as families travel together. As we've found more passengers from class 1 were saved than from class 3, it can explain the negative correlation between pclass and survived. \n",
    "\n",
    "Older passengers have choosen Pclass1 and younger passengers have generally taken class 3 tickets. this explains the negative correlation between age and passenger class."
   ]
  },
  {
   "cell_type": "code",
   "execution_count": 29,
   "id": "ee1806e1-22dd-4c14-bc3d-ab4a24cf1edb",
   "metadata": {},
   "outputs": [
    {
     "data": {
      "image/png": "[encoded data removed]",
      "text/plain": [
       "plot without title"
      ]
     },
     "metadata": {
      "image/png": {
       "height": 480,
       "width": 600
      }
     },
     "output_type": "display_data"
    }
   ],
   "source": [
    "ggplot(titanic, aes(x = factor(Pclass), y = Age)) +\n",
    "  geom_boxplot(fill = \"lightblue\", color = \"black\", na.rm = TRUE) +  # Boxplot with light blue fill and black borders\n",
    "  labs(title = \"Distribution of Ages in each passenger class\", \n",
    "       x = \"PClass\", y = \"Age\") +\n",
    "  theme_minimal() +\n",
    "  theme(plot.title = element_text(hjust = 0.5, vjust = 1.02, size=20))"
   ]
  },
  {
   "cell_type": "markdown",
   "id": "736fb11b-deb7-42c1-a932-01c562102239",
   "metadata": {},
   "source": [
    "It is seen that more older passnegers have choosen passenger class 1. Also class 1 passengers show a larger age distribution compared to class 2 and 3. Class 3 passengers are generally younger with their median age being around 25."
   ]
  },
  {
   "cell_type": "code",
   "execution_count": 30,
   "id": "ba6acf52-dae4-414b-b946-f6bdd5f2b48e",
   "metadata": {},
   "outputs": [
    {
     "data": {
      "image/png": "[encoded data removed]",
      "text/plain": [
       "plot without title"
      ]
     },
     "metadata": {
      "image/png": {
       "height": 480,
       "width": 600
      }
     },
     "output_type": "display_data"
    }
   ],
   "source": [
    "ggplot(titanic, aes(x = SibSp)) + \n",
    "      geom_histogram(binwidth = .5, fill = \"skyblue\", color = \"black\") +\n",
    "      labs(title = \"Siblings and Spouses on board Histogram\")"
   ]
  },
  {
   "cell_type": "code",
   "execution_count": 31,
   "id": "d0cef121-92ef-4478-ae45-a502322370a3",
   "metadata": {},
   "outputs": [
    {
     "data": {
      "image/png": "[encoded data removed]",
      "text/plain": [
       "plot without title"
      ]
     },
     "metadata": {
      "image/png": {
       "height": 480,
       "width": 600
      }
     },
     "output_type": "display_data"
    }
   ],
   "source": [
    "ggplot(titanic, aes(x = Parch)) + \n",
    "      geom_histogram(binwidth = .5, fill = \"lightgreen\", color = \"black\") +\n",
    "      labs(title = \"Parents and Children on Board Histogram\")"
   ]
  }
 ],
 "metadata": {
  "kernelspec": {
   "display_name": "R",
   "language": "R",
   "name": "ir"
  },
  "language_info": {
   "codemirror_mode": "r",
   "file_extension": ".r",
   "mimetype": "text/x-r-source",
   "name": "R",
   "pygments_lexer": "r",
   "version": "4.3.2"
  }
 },
 "nbformat": 4,
 "nbformat_minor": 5
}
